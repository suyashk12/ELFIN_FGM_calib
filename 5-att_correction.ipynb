{
 "cells": [
  {
   "cell_type": "code",
   "execution_count": 1,
   "metadata": {},
   "outputs": [],
   "source": [
    "import numpy as np"
   ]
  },
  {
   "cell_type": "code",
   "execution_count": 2,
   "metadata": {},
   "outputs": [],
   "source": [
    "u_hat = np.array([3, 4, 5])\n",
    "u_hat = u_hat/np.linalg.norm(u_hat)"
   ]
  },
  {
   "cell_type": "code",
   "execution_count": 3,
   "metadata": {},
   "outputs": [],
   "source": [
    "b_hat = np.array([6, 7, 8])\n",
    "b_hat = b_hat/np.linalg.norm(b_hat)"
   ]
  },
  {
   "cell_type": "code",
   "execution_count": 4,
   "metadata": {},
   "outputs": [],
   "source": [
    "R = np.zeros((3, 3))\n",
    "\n",
    "R[:,0] = np.cross(b_hat, u_hat)\n",
    "R[:,1] = np.cross(u_hat, np.cross(b_hat, u_hat))\n",
    "R[:,2] = u_hat\n",
    "\n",
    "R[:,0] /= np.linalg.norm(R[:,0])\n",
    "R[:,1] /= np.linalg.norm(R[:,1])\n",
    "R[:,2] /= np.linalg.norm(R[:,2])"
   ]
  },
  {
   "cell_type": "code",
   "execution_count": 5,
   "metadata": {},
   "outputs": [],
   "source": [
    "cos_theta = (np.trace(R)-1)/2"
   ]
  },
  {
   "cell_type": "code",
   "execution_count": 6,
   "metadata": {},
   "outputs": [
    {
     "data": {
      "text/plain": [
       "0.11541256274416711"
      ]
     },
     "execution_count": 6,
     "metadata": {},
     "output_type": "execute_result"
    }
   ],
   "source": [
    "cos_theta"
   ]
  },
  {
   "cell_type": "code",
   "execution_count": 7,
   "metadata": {},
   "outputs": [],
   "source": [
    "u_x_2 = (R[0,0]-cos_theta)/(1-cos_theta)\n",
    "u_y_2 = (R[1,1]-cos_theta)/(1-cos_theta)"
   ]
  },
  {
   "cell_type": "code",
   "execution_count": 8,
   "metadata": {},
   "outputs": [
    {
     "data": {
      "text/plain": [
       "0.331042150709409"
      ]
     },
     "execution_count": 8,
     "metadata": {},
     "output_type": "execute_result"
    }
   ],
   "source": [
    "u_x_2"
   ]
  },
  {
   "cell_type": "code",
   "execution_count": 9,
   "metadata": {},
   "outputs": [
    {
     "data": {
      "text/plain": [
       "6.499198534360994e-05"
      ]
     },
     "execution_count": 9,
     "metadata": {},
     "output_type": "execute_result"
    }
   ],
   "source": [
    "u_y_2"
   ]
  },
  {
   "cell_type": "code",
   "execution_count": 10,
   "metadata": {},
   "outputs": [],
   "source": [
    "u_x_arr = np.array([-np.sqrt(u_x_2), np.sqrt(u_x_2)])\n",
    "u_y_arr = np.array([-np.sqrt(u_y_2), np.sqrt(u_y_2)])\n",
    "u_z_arr = np.array([-np.sqrt(1-u_x_2-u_y_2), np.sqrt(1-u_x_2-u_y_2)])"
   ]
  },
  {
   "cell_type": "code",
   "execution_count": 11,
   "metadata": {},
   "outputs": [
    {
     "data": {
      "text/plain": [
       "array([-0.57536263,  0.57536263])"
      ]
     },
     "execution_count": 11,
     "metadata": {},
     "output_type": "execute_result"
    }
   ],
   "source": [
    "u_x_arr"
   ]
  },
  {
   "cell_type": "code",
   "execution_count": 12,
   "metadata": {},
   "outputs": [
    {
     "data": {
      "text/plain": [
       "array([-0.00806176,  0.00806176])"
      ]
     },
     "execution_count": 12,
     "metadata": {},
     "output_type": "execute_result"
    }
   ],
   "source": [
    "u_y_arr"
   ]
  },
  {
   "cell_type": "code",
   "execution_count": 13,
   "metadata": {},
   "outputs": [
    {
     "data": {
      "text/plain": [
       "array([-0.8178587,  0.8178587])"
      ]
     },
     "execution_count": 13,
     "metadata": {},
     "output_type": "execute_result"
    }
   ],
   "source": [
    "u_z_arr"
   ]
  },
  {
   "cell_type": "code",
   "execution_count": 14,
   "metadata": {},
   "outputs": [],
   "source": [
    "sin_theta_arr_1 = []\n",
    "\n",
    "for u_x in u_x_arr:\n",
    "    for u_y in u_y_arr:\n",
    "        for u_z in u_z_arr:\n",
    "            sin_theta = (u_x*u_y*(1-cos_theta)-R[0,1])/u_z\n",
    "            sin_theta_arr_1.append(sin_theta)\n",
    "            \n",
    "sin_theta_arr_1 = np.array(sin_theta_arr_1)"
   ]
  },
  {
   "cell_type": "code",
   "execution_count": 15,
   "metadata": {},
   "outputs": [
    {
     "data": {
      "text/plain": [
       "array([ 0.98328388, -0.98328388,  0.99331764, -0.99331764,  0.99331764,\n",
       "       -0.99331764,  0.98328388, -0.98328388])"
      ]
     },
     "execution_count": 15,
     "metadata": {},
     "output_type": "execute_result"
    }
   ],
   "source": [
    "sin_theta_arr_1"
   ]
  },
  {
   "cell_type": "code",
   "execution_count": 16,
   "metadata": {},
   "outputs": [],
   "source": [
    "sin_theta_arr_2 = []\n",
    "\n",
    "for u_x in u_x_arr:\n",
    "    for u_y in u_y_arr:\n",
    "        for u_z in u_z_arr:\n",
    "            sin_theta = (R[1,0]-u_x*u_y*(1-cos_theta))/u_z\n",
    "            sin_theta_arr_2.append(sin_theta)\n",
    "            \n",
    "sin_theta_arr_2 = np.array(sin_theta_arr_2)"
   ]
  },
  {
   "cell_type": "code",
   "execution_count": 17,
   "metadata": {},
   "outputs": [
    {
     "data": {
      "text/plain": [
       "array([ 1.00335141, -1.00335141,  0.99331764, -0.99331764,  0.99331764,\n",
       "       -0.99331764,  1.00335141, -1.00335141])"
      ]
     },
     "execution_count": 17,
     "metadata": {},
     "output_type": "execute_result"
    }
   ],
   "source": [
    "sin_theta_arr_2"
   ]
  },
  {
   "cell_type": "code",
   "execution_count": 18,
   "metadata": {},
   "outputs": [],
   "source": [
    "sin_theta_arr = np.unique(np.concatenate((sin_theta_arr_1, sin_theta_arr_2)))"
   ]
  },
  {
   "cell_type": "code",
   "execution_count": 19,
   "metadata": {},
   "outputs": [
    {
     "data": {
      "text/plain": [
       "array([-1.00335141, -0.99331764, -0.99331764, -0.98328388,  0.98328388,\n",
       "        0.99331764,  0.99331764,  1.00335141])"
      ]
     },
     "execution_count": 19,
     "metadata": {},
     "output_type": "execute_result"
    }
   ],
   "source": [
    "sin_theta_arr"
   ]
  },
  {
   "cell_type": "code",
   "execution_count": 20,
   "metadata": {},
   "outputs": [],
   "source": [
    "sin_theta = sin_theta_arr[np.argmin(np.abs(sin_theta_arr**2+cos_theta**2-1))]"
   ]
  },
  {
   "cell_type": "code",
   "execution_count": 21,
   "metadata": {},
   "outputs": [],
   "source": [
    "sin_theta_arr_new = np.array([-np.abs(sin_theta), np.abs(sin_theta)])"
   ]
  },
  {
   "cell_type": "code",
   "execution_count": 22,
   "metadata": {},
   "outputs": [
    {
     "data": {
      "text/plain": [
       "array([1., 1.])"
      ]
     },
     "execution_count": 22,
     "metadata": {},
     "output_type": "execute_result"
    }
   ],
   "source": [
    "sin_theta_arr_new**2 + cos_theta**2"
   ]
  },
  {
   "cell_type": "code",
   "execution_count": 23,
   "metadata": {},
   "outputs": [],
   "source": [
    "R_arr = []\n",
    "solutions_arr = []"
   ]
  },
  {
   "cell_type": "code",
   "execution_count": 24,
   "metadata": {},
   "outputs": [],
   "source": [
    "for u_x in u_x_arr:\n",
    "    for u_y in u_y_arr:\n",
    "        for u_z in u_z_arr:\n",
    "            for sin_theta in sin_theta_arr_new:\n",
    "                solutions_arr.append([u_x, u_y, u_z, sin_theta])\n",
    "                R_arr.append([[cos_theta+u_x**2*(1-cos_theta), u_x*u_y*(1-cos_theta)-u_z*sin_theta, u_x*u_z*(1-cos_theta)+u_y*sin_theta],\n",
    "                             [u_y*u_x*(1-cos_theta)+u_z*sin_theta, cos_theta+u_y**2*(1-cos_theta), u_y*u_z*(1-cos_theta)-u_x*sin_theta],\n",
    "                             [u_z*u_x*(1-cos_theta)-u_y*sin_theta, u_z*u_y*(1-cos_theta)+u_x*sin_theta, cos_theta+u_z**2*(1-cos_theta)]])"
   ]
  },
  {
   "cell_type": "code",
   "execution_count": 25,
   "metadata": {},
   "outputs": [],
   "source": [
    "R_arr = np.array(R_arr)\n",
    "solutions_arr = np.array(solutions_arr)"
   ]
  },
  {
   "cell_type": "code",
   "execution_count": 26,
   "metadata": {},
   "outputs": [],
   "source": [
    "R_new = R_arr[np.argmin(np.abs(np.linalg.det(R_arr-R)))]\n",
    "solution = solutions_arr[np.argmin(np.abs(np.linalg.det(R_arr-R)))]"
   ]
  },
  {
   "cell_type": "code",
   "execution_count": 27,
   "metadata": {},
   "outputs": [
    {
     "data": {
      "text/plain": [
       "array([-0.57536263,  0.00806176, -0.8178587 ,  0.99331764])"
      ]
     },
     "execution_count": 27,
     "metadata": {},
     "output_type": "execute_result"
    }
   ],
   "source": [
    "solution"
   ]
  },
  {
   "cell_type": "code",
   "execution_count": 28,
   "metadata": {},
   "outputs": [
    {
     "data": {
      "text/plain": [
       "array([[ 0.40824829,  0.80829038,  0.42426407],\n",
       "       [-0.81649658,  0.11547005,  0.56568542],\n",
       "       [ 0.40824829, -0.57735027,  0.70710678]])"
      ]
     },
     "execution_count": 28,
     "metadata": {},
     "output_type": "execute_result"
    }
   ],
   "source": [
    "R_new"
   ]
  },
  {
   "cell_type": "code",
   "execution_count": 29,
   "metadata": {},
   "outputs": [
    {
     "data": {
      "text/plain": [
       "array([[ 0.40824829,  0.80829038,  0.42426407],\n",
       "       [-0.81649658,  0.11547005,  0.56568542],\n",
       "       [ 0.40824829, -0.57735027,  0.70710678]])"
      ]
     },
     "execution_count": 29,
     "metadata": {},
     "output_type": "execute_result"
    }
   ],
   "source": [
    "R"
   ]
  },
  {
   "cell_type": "code",
   "execution_count": 30,
   "metadata": {},
   "outputs": [],
   "source": [
    "u_x_sol = solution[0]\n",
    "u_y_sol = solution[1]\n",
    "u_z_sol = solution[2]\n",
    "sin_theta_sol = solution[3]\n",
    "cos_theta_sol = cos_theta"
   ]
  },
  {
   "cell_type": "code",
   "execution_count": 31,
   "metadata": {},
   "outputs": [],
   "source": [
    "if(cos_theta_sol>0 and sin_theta_sol>0):\n",
    "    theta_sol = np.arcsin(sin_theta_sol)\n",
    "    \n",
    "elif(cos_theta_sol<0 and sin_theta_sol>0):\n",
    "    theta_sol = np.arccos(cos_theta_sol)\n",
    "    \n",
    "elif(cos_theta_sol<0 and sin_theta_sol<0):\n",
    "    theta_sol = 2*np.pi-np.arccos(cos_theta_sol)\n",
    "    \n",
    "else:\n",
    "    theta_sol = 2*np.pi+np.arcsin(sin_theta_sol)"
   ]
  },
  {
   "cell_type": "code",
   "execution_count": 32,
   "metadata": {},
   "outputs": [
    {
     "data": {
      "text/plain": [
       "(-0.5753626254019364,\n",
       " 0.008061760685086723,\n",
       " -0.8178587025307289,\n",
       " 1.4551259989544452)"
      ]
     },
     "execution_count": 32,
     "metadata": {},
     "output_type": "execute_result"
    }
   ],
   "source": [
    "u_x_sol, u_y_sol, u_z_sol, theta_sol"
   ]
  },
  {
   "cell_type": "code",
   "execution_count": 33,
   "metadata": {},
   "outputs": [],
   "source": [
    "R_sol = np.array([[np.cos(theta_sol)+u_x_sol**2*(1-np.cos(theta_sol)), u_x_sol*u_y_sol*(1-np.cos(theta_sol))-u_z_sol*np.sin(theta_sol), u_x_sol*u_z_sol*(1-np.cos(theta_sol))+u_y_sol*np.sin(theta_sol)],\n",
    "                  [u_y_sol*u_x_sol*(1-np.cos(theta_sol))+u_z_sol*np.sin(theta_sol), np.cos(theta_sol)+u_y_sol**2*(1-np.cos(theta_sol)), u_y_sol*u_z_sol*(1-np.cos(theta_sol))-u_x_sol*np.sin(theta_sol)],\n",
    "                  [u_z_sol*u_x_sol*(1-np.cos(theta_sol))-u_y_sol*np.sin(theta_sol), u_z_sol*u_y_sol*(1-np.cos(theta_sol))+u_x_sol*np.sin(theta_sol), np.cos(theta_sol)+u_z_sol**2*(1-np.cos(theta_sol))]])"
   ]
  },
  {
   "cell_type": "code",
   "execution_count": 34,
   "metadata": {},
   "outputs": [
    {
     "data": {
      "text/plain": [
       "array([[ 5.82867088e-15,  0.00000000e+00, -6.21724894e-15],\n",
       "       [ 2.10942375e-15,  8.70137296e-15,  9.99200722e-16],\n",
       "       [-2.10942375e-15,  2.10942375e-15,  2.66453526e-15]])"
      ]
     },
     "execution_count": 34,
     "metadata": {},
     "output_type": "execute_result"
    }
   ],
   "source": [
    "R_sol-R"
   ]
  },
  {
   "cell_type": "code",
   "execution_count": null,
   "metadata": {},
   "outputs": [],
   "source": []
  }
 ],
 "metadata": {
  "kernelspec": {
   "display_name": "Python 3",
   "language": "python",
   "name": "python3"
  },
  "language_info": {
   "codemirror_mode": {
    "name": "ipython",
    "version": 3
   },
   "file_extension": ".py",
   "mimetype": "text/x-python",
   "name": "python",
   "nbconvert_exporter": "python",
   "pygments_lexer": "ipython3",
   "version": "3.8.5"
  }
 },
 "nbformat": 4,
 "nbformat_minor": 4
}
